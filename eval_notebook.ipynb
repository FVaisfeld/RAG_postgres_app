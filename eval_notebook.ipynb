{
 "cells": [
  {
   "cell_type": "markdown",
   "metadata": {},
   "source": [
    "# Evaluation notebook"
   ]
  },
  {
   "cell_type": "code",
   "execution_count": 7,
   "metadata": {},
   "outputs": [
    {
     "name": "stdout",
     "output_type": "stream",
     "text": [
      "What is the revenue of Alphabet Inc?\n"
     ]
    },
    {
     "name": "stderr",
     "output_type": "stream",
     "text": [
      "Evaluating: 100%|██████████| 3/3 [00:04<00:00,  1.53s/it]\n"
     ]
    },
    {
     "name": "stdout",
     "output_type": "stream",
     "text": [
      "What is the revenue of Apple Inc?\n"
     ]
    },
    {
     "name": "stderr",
     "output_type": "stream",
     "text": [
      "Evaluating: 100%|██████████| 3/3 [00:03<00:00,  1.10s/it]\n"
     ]
    },
    {
     "name": "stdout",
     "output_type": "stream",
     "text": [
      "What is the revenue of Microsoft?\n"
     ]
    },
    {
     "name": "stderr",
     "output_type": "stream",
     "text": [
      "Evaluating: 100%|██████████| 3/3 [00:15<00:00,  5.12s/it]\n"
     ]
    },
    {
     "name": "stdout",
     "output_type": "stream",
     "text": [
      "Who is bigger in terms of revenue, Apple, Microsoft or Alphabet?\n"
     ]
    },
    {
     "name": "stderr",
     "output_type": "stream",
     "text": [
      "Evaluating: 100%|██████████| 3/3 [00:06<00:00,  2.21s/it]\n"
     ]
    }
   ],
   "source": [
    "from eval.eval import ragas_eval\n",
    "\n",
    "\n",
    "eval = []\n",
    "with open('eval/eval_questions.txt', 'r') as file:\n",
    "    for line in file:\n",
    "        question = line.strip()\n",
    "        print(question)\n",
    "        eval_metrics, response, context = ragas_eval(question)\n",
    "        eval.append({'question': question, 'response:': response, 'context': context, 'eval_metrics': eval_metrics})\n"
   ]
  },
  {
   "cell_type": "code",
   "execution_count": 2,
   "metadata": {},
   "outputs": [
    {
     "data": {
      "text/plain": [
       "{'question': 'What is the revenue of Alphabet Inc?',\n",
       " 'response:': 'The revenue of Alphabet Inc in the most recently reported fiscal year was 307.3 billion U.S. dollars.',\n",
       " 'context': [\"Alphabet: quarterly revenue 2023 # Revenue of Alphabet from 1st quarter 2014 to 4th quarter 2023 (in million U.S. dollars) # Alphabet: quarterly revenue 2014-2023 # In the fourth quarter of 2023, Alphabet's revenue amounted to over 86.31 billion U.S. dollars, up from 76 billion U.S. dollars during the same quarter a year prior. The company's main revenue source is advertising through Google Sites and online products. Alphabet's Other Bets segment also includes businesses such as Access/Google Fiber, Calico, Nest, Verily, GV, Google Capital, X, and other ventures\",\n",
       "  \"Alphabet: global annual revenue 2023 # Annual revenue of Alphabet from 2011 to 2023 (in million U.S. dollars) # Alphabet: global annual revenue 2011-2023 # In the most recently reported fiscal year, Alphabet's revenue amounted to 307.3 billion U.S. dollars, up from 282.8 billion U.S. dollars in the previous year. Alphabet Inc. is an American multinational conglomerate created in 2015 as the parent company of Google, along with several other companies previously owned by or tied to Google.\\\\nAlphabet business segments\\\\nAlphabet has several operating segments, including Google and Other Bets. Google is the only reportable segment, as none of the other segments meet the quantitative revenue thresholds to qualify as reportable segments. In 2022, Google segment revenue amounted to 305.6 billion U.S. dollars. During the same fiscal period, the Other Bets segment revenue amounted to 1.52 billion U.S. dollars in total.\\\\nAccording to the company, the Google product segment includes “revenues from the company’s main products Ads, Android, Chrome, Google Cloud, Google Maps, digital content distribution platform Google Play, Hardware, Search and YouTube. Google generates revenues primarily from advertising; sales of apps, in-app purchases, digital content products, and hardware; and licensing and service fees, including fees received for Google Cloud offerings.”\\\\nAlphabet’s Other Bets segment mainly generates revenues through the sales of TV and internet services through Access, in addition to R&D services and licensing through Verily. Alphabet businesses Calico, CapitalG, GV, Waymo and X are also included in this segment\",\n",
       "  \"Alphabet: global annual revenue by segment 2023 # Annual revenue of Alphabet from 2017 to 2023, by segment (in million U.S. dollars) # Alphabet: global annual revenue 2017-2023, by segment # In 2023, Alphabet's revenue from Google websites (including YouTube advertising) amounted to around 206 billion U.S. dollars, up from 191 billion U.S. dollars in the previous year. Google Search is by far the biggest revenue segment of Alphabet. Alphabet Inc. is an American multinational conglomerate created in 2015 as the parent company of Google and several other companies previously owned by or tied to Google\",\n",
       "  \"Alphabet: annual operating income 2023 # Annual operating income of Alphabet from 2015 to 2023 (in million U.S. dollars) # Alphabet: annual income from operations 2015-2023 # In the most recently reported fiscal year, Alphabet's operating income amounted to 84.293 billion U.S. dollars, up from 74.8 billion U.S. dollars from 2022. The online conglomerate's 2023 net income amounted to 73.7 billion U.S. dollars. Alphabet is the parent company of Google. Alphabet Inc. is an American multinational conglomerate created in 2015 as the parent company of Google and several other companies previously owned by or tied to Google\",\n",
       "  \"Alphabet: annual net income 2023 # Annual net income generated by Alphabet from 2011 to 2023 (in million U.S. dollars) # Alphabet: global annual net income 2011-2023 # In the most recent fiscal year, Alphabet's net income amounted to 73.7 billion U.S. dollars, a recover from the 59.9 billion U.S. dollars registered in the previous year. Alphabet Inc. is an American multinational conglomerate created in 2015 as the parent company of Google and several other companies previously owned by or tied to Google.\\\\nAlphabet: the company\\\\nAlphabet’s businesses not only include Google but also a wide range of other companies across various, mostly digital-related verticals. The sheer size of the company is even more evident when looking at the market capitalization of the largest U.S. internet companies. As of September 2023, Alphabet had a market cap of 1.73 trillion U.S. dollars, surpassing online shopping platform Amazon. The e-retailer had a market cap of more than 1.4 trillion U.S. dollars\"],\n",
       " 'eval_metrics': {'faithfulness': 1.0000, 'answer_relevancy': 0.9532, 'context_relevancy': 0.2917}}"
      ]
     },
     "execution_count": 2,
     "metadata": {},
     "output_type": "execute_result"
    }
   ],
   "source": [
    "eval[0]"
   ]
  },
  {
   "cell_type": "code",
   "execution_count": 3,
   "metadata": {},
   "outputs": [
    {
     "data": {
      "text/plain": [
       "{'question': 'What is the revenue of Apple Inc?',\n",
       " 'response:': 'In its 2022 financial year, Apple reported 383 billion U.S. dollars in revenues.',\n",
       " 'context': [\"Apple: revenue by operating segment 2023 # Revenue of Apple from 2000 to 2023, by operating segment (in billion U.S. dollars) # Apple's revenue 2000-2023, by operating segment # Between 2022 and 2023, the Californian tech giant Apple decreased, generating a total revenue of over 383 billion U.S. dollars at the end of the given period. Over the years, the company released several different products, with the iPhone accounting for most of the revenue since its first release in 2007.\",\n",
       "  \"Apple services revenue by product category 2011-2020 # Apple's services revenue by product category from 2011 to 2020* (in billion U.S. dollars) # Revenue of Apple's services segment 2011-2020, by product category # This statistic shows Apple's revenue from its services segment by product category from 2011 to 2020. In fiscal year 2016, Apple's revenue from its App Store amounted to 7 billion U.S. dollars.\\\\\",\n",
       "  \"Apple revenue by fiscal quarter 2024 # Apple's global revenue from 1st quarter 2005 to 1st quarter 2024 (in billion U.S. dollars) # Revenue of Apple by fiscal quarter 2005-2024 # For the first quarter of their 2024 fiscal year, Apple reported a revenue of 119.6 billion U.S. dollars.\\\\n\\\\n Apple revenue - additional information\\\\n\\\\nApple Computer, Inc.  was renamed Apple Inc. in 2007, in order to reflect the brand’s extension into other segments of the consumer electronics market. The company, founded in 1976, went on to grow from a two-man operation to a worldwide record-breaking phenomenon. In its 2022 financial year, Apple reported 383 billion U.S. dollars in revenues, compared to eight billion U.S. dollars in 2004.\\\\n\\\\n\\\\n\\\\nSince the 2001 launch of the iPod in 2001, Apple has invested billions in research and development of new products, in order to answer ever changing consumer needs. Apple’s most profitable division is its hardware segment, which includes products such as the Macintosh computer series, the iPod, the iPhone, the iPad , or Apple TV. Additionally, Apple offers consumers a number of software products, such as the OS X and iOS operating systems and web-based services, such as the Mac App Store and the iOS App Store, iTunes Store, iBooks, or iCloud.\\\\n\\\\n Apple's iPhone is its most successful product\\\\n\\\\nReleased in 2007 and already in its eighth generation in 2014, the iPhone is Apple’s most successful product, with over 1.5 billion units sold since its launch. It is credited with almost singlehandedly making Apple one of the most valuable brands in the world. The iPhone also has a very strong brand retention, surpassing all other smartphone brands. In the United States and in the United Kingdom, Apple's iOS operating system occupied half or more of both markets in 2022.\",\n",
       "  \"Apple services revenue 2024 # Apple's revenue from iTunes, software and services from 1st quarter 2013 to 1st quarter 2024 (in billion U.S. dollars) # Revenue of Apple from services segment 2013-2024 # In the first quarter of 2024, Apple generated a total of 23.12 billion U.S. dollars in services revenue. These services include iTunes, the company’s online entertainment library, as well as software, digital content, AppleCare, Apple Pay, and licensing. Overall, Apple’s services segment has shown strong growth over the last few years, passing the mark of ten billion U.S. dollars in revenue in a quarter for the first time in 2018. Apple's services segment now only trails the revenue generated by its largest segment, the iPhone, which brings in tens of billions of U.S. dollars each quarter.\\\\n\\\\n\\\\nApple Inc.\\\\n\\\\nSince its famous beginning in a garage in California, Apple has grown into a giant of the technology industry, becoming one of the most valuable companies in the world. Every year, it brings in hundreds of billions of U.S. dollars and revolutionize the industry time and time again with its various consumer electronic devices. Some of the company’s most famous products include the Apple I, MacBook, iPod, Apple Watch, and the iPhone. In order to continue to innovate and improve its product offerings, Apple allocates over ten billion U.S. dollars per year towards its research and development budget. This massive R&D budget not only helps from a hardware perspective, but also assists in the development of more digital solutions to everyday needs such as iCloud and Apple Pay.\\\\\",\n",
       "  \"Apple net income 2005-2023 # Apple's net income in the company's fiscal years from 2005 to 2023 (in billion U.S. dollars) # Apple's net income 2005-2023 # Apple reported net income of 96.99 billion U.S. dollars in its 2023 fiscal year, down from the highest net income to date in 2022. Apple’s global revenue amounted to 383.29 billion U.S. dollars in that same year. Founded in 1976 in California by Steve Jobs, Steve Wozniak and Ronald Wayne, Apple has over the years developed into one of the most valuable brands worldwide.\\\\n\\\\n Apple’s products\\\\n\\\\nThe product that contributed most to Apple’s success is the iPhone, which brought in 52 billion U.S. dollars sales revenue in the first quarter of 2019 alone. Revenues generated from iPhone sales consistently make up around 50 percent of Apple’s overall revenue in recent years. Other major Apple products include consumer electronic devices such as the Mac computers, iPad, Apple Watch and the smart speaker HomePod. Apple’s service products, such as the iTunes Store and iCloud, are becoming a greater part of the company’s business and provides new sources of revenue stream.\\\\\"],\n",
       " 'eval_metrics': {'faithfulness': 1.0000, 'answer_relevancy': 0.9361, 'context_relevancy': 0.0286}}"
      ]
     },
     "execution_count": 3,
     "metadata": {},
     "output_type": "execute_result"
    }
   ],
   "source": [
    "eval[1]"
   ]
  },
  {
   "cell_type": "code",
   "execution_count": 4,
   "metadata": {},
   "outputs": [
    {
     "data": {
      "text/plain": [
       "{'question': 'What is the revenue of Microsoft?',\n",
       " 'response:': 'In the fiscal year 2023, Microsoft earned almost 212 billion U.S. dollars from external customers.',\n",
       " 'context': [\"Microsoft software revenue worldwide 2011-2014 # Microsoft's revenue from software worldwide from 2011 to 2014 (in billion U.S. dollars) # Global software revenue of Microsoft 2011-2014 # The statistic shows the global revenue of Microsoft from the sale of software from 2011 to 2014. In 2012, Microsoft generated more than 58 billion U.S. dollars in revenue from software\",\n",
       "  \"Microsoft annual gaming revenue 2023 # Gaming revenue generated by Microsoft from fiscal 2017 to 2023 (in million U.S. dollars) # Microsoft annual gaming revenue 2017-2023 # In Microsoft's fiscal year 2023, spanning from July 2022 to June 2023, the gaming revenue reached 15.47 billion U.S. dollars, down from 16.23 billion U.S. dollars in the previous fiscal period. Microsoft's gaming segment includes revenues from Xbox hardware and Xbox content and services, comprising digital transactions, Xbox Game Pass and other subscriptions, video games, third-party video game royalties, cloud services, and advertising\",\n",
       "  \"Microsoft Corporation revenue by quarter 2008-2024 # Microsoft Corporation's quarterly revenue from fiscal year 2008 to 2024 (in billion U.S. dollars) # Microsoft's revenue 2008-2024, by fiscal quarter # Microsoft Corporation’s quarterly revenue almost tripled within the last 12 years, increasing from 14.45 billion U.S. dollars in the third quarter of 2008 to over 56 billion in the first quarter of their 2024 fiscal year. Over the highlighted period, the largest increase in quarterly revenue occurred between the first and second quarters of 2010, with revenue increasing by more than six billion U.S. dollars.\\\\n\\\\nIntelligent Cloud segment leads Microsoft’s revenues\\\\u202f\\\\u202f\\\\n\\\\nFounded by Bill Gates and Paul Allen, Microsoft Corporation is an American multinational technology company that develops and sells a wide range of consumer and enterprise software, hardware, services, and consumer electronics. In its 2021 financial year, Microsoft generated most of its revenue from its Intelligent Cloud segment, which includes Microsoft's popular cloud flatform Azure. The Productivity and Business Processes segment, including the successful line of the Office products, also brings in an increasing amount of revenues. The rapid growths in these segments contributed to making 2021 the company’s most successful year in terms of annual revenue, which amounted to more than 168 billion U.S. dollars.\\\\n\\\\nMicrosoft's income growth is equally impressive\\\\n\\\\nNot only has Microsoft seen great evolution in terms of sales, the company has been making better and better profits as well. Microsoft's annual net income reached 73 billion U.S. dollars in fiscal year 2022, delivering an impressive margin of over 35 percent. In a time when the COVID-19 pandemic imposed social distancing and remote working practices onto businesses and individuals, technology companies such as Microsoft provide the essential tools that make such practices possible. Their businesses grow as a result.\",\n",
       "  \"Microsoft quarterly gaming revenue 2024 # Gaming revenue generated by Microsoft from fiscal 1st quarter 2019 to 2nd quarter 2024 (in million U.S. dollars) # Microsoft gaming revenue as of Q2 2024 # In the most recently reported fiscal quarter ending December 2023 (2024 Q2), Microsoft generated approximately 7.11 billion U.S. dollars through its gaming segment. The tech company's gaming segment includes Xbox hardware and Xbox content and services, comprising Xbox Live (transactions, subscriptions, cloud services, and advertising), video games, and third-party video game royalties, as well as gaming revenues from its recently closed acquisition of gaming company Activision Blizzard\",\n",
       "  \"Microsoft external revenue by product/service 2023 # Microsoft's revenue from external customers from 2016 to 2023, by significant product and service offering (in billion U.S. dollars) # External revenue of Microsoft broken down by major products and services 2016-2023 # In the fiscal year 2023, Microsoft earned almost 212 billion U.S. dollars from external customers of which their Office products and cloud services accounted for close to 49 billion U.S. dollars. Server products and cloud services accounted for the largest share of this revenue, with around 78 billion U.S. dollars in FY2023\"],\n",
       " 'eval_metrics': {'faithfulness': 1.0000, 'answer_relevancy': 0.9127, 'context_relevancy': 0.3333}}"
      ]
     },
     "execution_count": 4,
     "metadata": {},
     "output_type": "execute_result"
    }
   ],
   "source": [
    "eval[2]"
   ]
  },
  {
   "cell_type": "code",
   "execution_count": 5,
   "metadata": {},
   "outputs": [
    {
     "data": {
      "text/plain": [
       "{'question': 'Who is bigger in terms of revenue, Apple, Microsoft or Alphabet?',\n",
       " 'response:': \"Apple is bigger in terms of revenue, with 394.33 billion U.S. dollars in the fiscal year 2022. Alphabet's revenue was 282.83 billion U.S. dollars and Microsoft's was 198.27 billion U.S. dollars in the same period.\",\n",
       " 'context': [\"Google revenue comparison Apple Microsoft 2022 # Revenue comparison of Apple, Google, Alphabet, and Microsoft from 2008 to 2022 (in billion U.S. dollars) # Apple, Google, and Microsoft: revenue comparison 2008-2022 # In the fiscal year 2022, Alphabet's revenue was 282.83 billion U.S. dollars. Comparatively, in the fiscal year of 2022, hardware-focused Apple's 394.33 billion U.S. dollar revenue was almost double the amount of Microsoft's 198.27 billion U.S. dollars. Whereas all of these companies have different market strengths, there are also overlaps and thus, competition. Apple and Google are direct competitors in the mobile phone market with their iOS and Android systems\",\n",
       "  'Umsatz von Apple, Google und Microsoft im Vergleich bis 2022 # Umsatz der Unternehmen Apple, Google (Alphabet) und Microsoft im Vergleich von 2008 bis 2022 (in Milliarden US-Dollar) # Umsatz von Apple, Google und Microsoft im Vergleich bis 2022 # Die Statistik bildet einen Vergleich der weltweiten Umsätze von Apple, Alphabet und Microsoft bis 2022 ab. Microsoft erzielte im Geschäftsjahr 2022 (Juli 2021 bis Juni 2022) einen Umsatz von rund 198 Milliarden US-Dollar',\n",
       "  \"Alphabet: global annual revenue by segment 2023 # Annual revenue of Alphabet from 2017 to 2023, by segment (in million U.S. dollars) # Alphabet: global annual revenue 2017-2023, by segment # In 2023, Alphabet's revenue from Google websites (including YouTube advertising) amounted to around 206 billion U.S. dollars, up from 191 billion U.S. dollars in the previous year. Google Search is by far the biggest revenue segment of Alphabet. Alphabet Inc. is an American multinational conglomerate created in 2015 as the parent company of Google and several other companies previously owned by or tied to Google\",\n",
       "  \"Apple sales revenue share by product 2012-2024 # Share of Apple's revenue by product category from the 1st quarter of 2012 to the 1st quarter of 2024 # Apple's revenue share by operating segment 2012-2024, by quarter # Apple’s iPhone sales accounted for over 58 percent of the company’s overall revenue in the first quarter of fiscal year 2024, the largest share of all Apple products. Over the years, services as well as wearables, home and accessories have made a growing contribution to Apple’s net sales.\\\\n\\\\n\\\\n\\\\nApple’s revenue growth amid the pandemic\\\\n\\\\nIn the first quarter of financial year 2024, Apple’s global revenue reached 119.58 billion U.S. dollars. The Americas are Apple’s largest regional market and contributed to over 42 percent of the firm’s sales in that quarter.\\\\n\\\\n\\\\n\\\\nWho are Apple’s competitors?\\\\n\\\\nHaving a broad family of products, Apple competes with different companies in different markets. Samsung is Apple’s largest adversaries in the global smartphone market, where the company had a share of 16 percent in fourth quarter of 2023. Similarly, Apple has a solid position in the PC market without a leading advantage. The situation is reversed in the tablet market and the smartwatch market, where Apple has remained the leader since the early days, staying ahead of Samsung, Huawei, Amazon, etc. \",\n",
       "  \"Alphabet: quarterly revenue 2023 # Revenue of Alphabet from 1st quarter 2014 to 4th quarter 2023 (in million U.S. dollars) # Alphabet: quarterly revenue 2014-2023 # In the fourth quarter of 2023, Alphabet's revenue amounted to over 86.31 billion U.S. dollars, up from 76 billion U.S. dollars during the same quarter a year prior. The company's main revenue source is advertising through Google Sites and online products. Alphabet's Other Bets segment also includes businesses such as Access/Google Fiber, Calico, Nest, Verily, GV, Google Capital, X, and other ventures\"],\n",
       " 'eval_metrics': {'faithfulness': 1.0000, 'answer_relevancy': 0.8382, 'context_relevancy': 0.1905}}"
      ]
     },
     "execution_count": 5,
     "metadata": {},
     "output_type": "execute_result"
    }
   ],
   "source": [
    "eval[3]"
   ]
  }
 ],
 "metadata": {
  "kernelspec": {
   "display_name": "env",
   "language": "python",
   "name": "python3"
  },
  "language_info": {
   "codemirror_mode": {
    "name": "ipython",
    "version": 3
   },
   "file_extension": ".py",
   "mimetype": "text/x-python",
   "name": "python",
   "nbconvert_exporter": "python",
   "pygments_lexer": "ipython3",
   "version": "3.8.9"
  }
 },
 "nbformat": 4,
 "nbformat_minor": 2
}
